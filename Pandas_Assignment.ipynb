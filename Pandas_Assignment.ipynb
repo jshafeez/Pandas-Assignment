{
  "nbformat": 4,
  "nbformat_minor": 0,
  "metadata": {
    "colab": {
      "provenance": []
    },
    "kernelspec": {
      "name": "python3",
      "display_name": "Python 3"
    },
    "language_info": {
      "name": "python"
    }
  },
  "cells": [
    {
      "cell_type": "markdown",
      "source": [
        "**Question:**\n",
        "\n",
        "You are given a CSV file named sales_data.csv containing the following columns:\n",
        "\n",
        "· Order ID\n",
        "\n",
        "· Product\n",
        "\n",
        "· Quantity Ordered\n",
        "\n",
        "· Price Each\n",
        "\n",
        "· Order Date\n",
        "\n",
        "· City\n",
        "\n",
        "Tasks:\n",
        "\n",
        "1. Load the dataset into a pandas DataFrame.\n",
        "\n",
        "2. Display the first 5 rows of the DataFrame.\n",
        "\n",
        "3. Check for any missing values in the dataset.\n",
        "\n",
        "4. Add a new column Total Sales that multiplies Quantity Ordered by Price Each.\n",
        "\n",
        "5. Find the total sales for each city and display it as a new DataFrame.\n",
        "\n",
        "6. Identify the product with the highest total sales.\n",
        "\n",
        "Expected Output Example:\n",
        "\n",
        "· A DataFrame displaying the total sales per city.\n",
        "\n",
        "· The name of the product with the highest sales.\n",
        "\n",
        "\n",
        "\n",
        "Write the pandas commands to perform these tasks."
      ],
      "metadata": {
        "id": "ep1BsvH5nFl4"
      }
    },
    {
      "cell_type": "code",
      "source": [
        "import pandas as pd\n"
      ],
      "metadata": {
        "id": "KUgSZUQknKz5"
      },
      "execution_count": 1,
      "outputs": []
    },
    {
      "cell_type": "code",
      "source": [
        "# Task 1: Load the dataset into a pandas DataFrame\n",
        "data = pd.read_csv('sales_data.csv')"
      ],
      "metadata": {
        "id": "p1kvCyltnhvy"
      },
      "execution_count": 3,
      "outputs": []
    },
    {
      "cell_type": "code",
      "source": [
        "# Task 2: Display the first 5 rows of the DataFrame\n",
        "print(\"First 5 rows of the dataset:\")\n",
        "print(data.head())"
      ],
      "metadata": {
        "colab": {
          "base_uri": "https://localhost:8080/"
        },
        "id": "wffqp1tGnkxY",
        "outputId": "e239689d-b5b3-44e3-bf2e-c430fd146481"
      },
      "execution_count": 4,
      "outputs": [
        {
          "output_type": "stream",
          "name": "stdout",
          "text": [
            "First 5 rows of the dataset:\n",
            "   Order ID                     Product  Quantity Ordered  Price Each  \\\n",
            "0    176558        USB-C Charging Cable                 2       11.95   \n",
            "1    176559  Bose SoundSport Headphones                 1       99.99   \n",
            "2    176560                Google Phone                 1      600.00   \n",
            "3    176561            Wired Headphones                 3       11.99   \n",
            "4    176562    Lightning Charging Cable                 1       14.95   \n",
            "\n",
            "  Order Date         City  \n",
            "0  1/22/2023     New York  \n",
            "1  1/23/2023  Los Angeles  \n",
            "2  1/23/2023      Chicago  \n",
            "3  1/24/2023      Houston  \n",
            "4  1/24/2023     New York  \n"
          ]
        }
      ]
    },
    {
      "cell_type": "code",
      "source": [
        "# Task 3: Check for any missing values in the dataset\n",
        "print(\"\\nMissing values in the dataset:\")\n",
        "print(data.isnull().sum())"
      ],
      "metadata": {
        "colab": {
          "base_uri": "https://localhost:8080/"
        },
        "id": "j4eXvFjXnnQS",
        "outputId": "0247aa2f-0b78-423b-abc5-d6ffcd70234e"
      },
      "execution_count": 5,
      "outputs": [
        {
          "output_type": "stream",
          "name": "stdout",
          "text": [
            "\n",
            "Missing values in the dataset:\n",
            "Order ID            0\n",
            "Product             0\n",
            "Quantity Ordered    0\n",
            "Price Each          0\n",
            "Order Date          0\n",
            "City                0\n",
            "dtype: int64\n"
          ]
        }
      ]
    },
    {
      "cell_type": "code",
      "source": [
        "# Task 4: Add a new column Total Sales that multiplies Quantity Ordered by Price Each\n",
        "# Convert 'Quantity Ordered' and 'Price Each' to numeric if they are not already\n",
        "# Handling potential conversion errors with 'coerce', then dropping invalid rows\n",
        "data['Quantity Ordered'] = pd.to_numeric(data['Quantity Ordered'], errors='coerce')\n",
        "data['Price Each'] = pd.to_numeric(data['Price Each'], errors='coerce')\n",
        "data.dropna(subset=['Quantity Ordered', 'Price Each'], inplace=True)"
      ],
      "metadata": {
        "id": "YH43326UnoC4"
      },
      "execution_count": 6,
      "outputs": []
    },
    {
      "cell_type": "code",
      "source": [
        "# Calculate Total Sales\n",
        "data['Total Sales'] = data['Quantity Ordered'] * data['Price Each']"
      ],
      "metadata": {
        "id": "mrSLPHGzns65"
      },
      "execution_count": 7,
      "outputs": []
    },
    {
      "cell_type": "code",
      "source": [
        "# Task 5: Find the total sales for each city and display it as a new DataFrame\n",
        "total_sales_per_city = data.groupby('City')['Total Sales'].sum().reset_index()\n",
        "print(\"\\nTotal sales per city:\")\n",
        "print(total_sales_per_city)"
      ],
      "metadata": {
        "colab": {
          "base_uri": "https://localhost:8080/"
        },
        "id": "x2s0jr3FnznX",
        "outputId": "0ed026e4-6ee8-41b3-fd3b-aa9eb618a3a3"
      },
      "execution_count": 8,
      "outputs": [
        {
          "output_type": "stream",
          "name": "stdout",
          "text": [
            "\n",
            "Total sales per city:\n",
            "            City  Total Sales\n",
            "0        Chicago      1800.00\n",
            "1        Houston       835.97\n",
            "2    Los Angeles       115.35\n",
            "3       New York        38.85\n",
            "4  San Francisco      1000.00\n"
          ]
        }
      ]
    },
    {
      "cell_type": "code",
      "source": [
        "# Task 6: Identify the product with the highest total sales\n",
        "product_sales = data.groupby('Product')['Total Sales'].sum()\n",
        "highest_selling_product = product_sales.idxmax()\n",
        "print(\"\\nProduct with the highest total sales:\")\n",
        "print(highest_selling_product)"
      ],
      "metadata": {
        "colab": {
          "base_uri": "https://localhost:8080/"
        },
        "id": "yft1zwwdn2H_",
        "outputId": "20595519-3776-415a-c66f-8bda6e81ce7b"
      },
      "execution_count": 9,
      "outputs": [
        {
          "output_type": "stream",
          "name": "stdout",
          "text": [
            "\n",
            "Product with the highest total sales:\n",
            "ThinkPad Laptop\n"
          ]
        }
      ]
    }
  ]
}